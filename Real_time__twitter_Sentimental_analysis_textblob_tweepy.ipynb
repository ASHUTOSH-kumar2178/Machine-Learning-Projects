{
  "cells": [
    {
      "cell_type": "markdown",
      "metadata": {
        "id": "view-in-github",
        "colab_type": "text"
      },
      "source": [
        "<a href=\"https://colab.research.google.com/github/ASHUTOSH-kumar2178/Machine-Learning-Projects/blob/main/Real_time__twitter_Sentimental_analysis_textblob_tweepy.ipynb\" target=\"_parent\"><img src=\"https://colab.research.google.com/assets/colab-badge.svg\" alt=\"Open In Colab\"/></a>"
      ]
    },
    {
      "cell_type": "code",
      "execution_count": null,
      "metadata": {
        "id": "TjIIDEADePEB"
      },
      "outputs": [],
      "source": [
        "import tweepy\n",
        "from textblob import TextBlob\n",
        "import matplotlib.pyplot as plt\n"
      ]
    },
    {
      "cell_type": "code",
      "execution_count": null,
      "metadata": {
        "id": "JPtAjF41eSEO"
      },
      "outputs": [],
      "source": [
        "# configurations \n",
        "\n",
        "bearer=\"AAAAAAAAAAAAAAAAAAAAAOhSaQEAAAAAbHTY78OLufXgBmyef%2BeJ7%2FCFzAk%3Di627LuA5ViRFVXT0eh8kM33VySr93qQpWMxXRr0IP0yJDRPjKk\"\n",
        "consumer_key=\"3WgABrWa4gzbwuS2Wf5oYgglM\"\n",
        "consumer_secret=\"THMNlmYJaKmrj95hX9dmMV0btRXMMbJlPyFP6YWgmwwvI1911f\"\n",
        "acces_token=\"795622695551594496-0XzVQmNJwKskUmWwnPulmiNWZH2uq22\"\n",
        "acces_token_secret=\"fH3HLElGhEpVn7D47ile4wRrm8fS2Bsvb6H5VU1PNTbrI\""
      ]
    },
    {
      "cell_type": "code",
      "execution_count": null,
      "metadata": {
        "id": "jXXK_YOKeZtO"
      },
      "outputs": [],
      "source": [
        "#COnnect To jump servers of twitter\n",
        "authorization= tweepy.OAuthHandler(consumer_key,consumer_secret)"
      ]
    },
    {
      "cell_type": "code",
      "execution_count": null,
      "metadata": {
        "id": "qmKQLfAMen9w"
      },
      "outputs": [],
      "source": [
        "#Now we connectt jump server to the web server\n",
        "authorization.set_access_token(acces_token,acces_token_secret)"
      ]
    },
    {
      "cell_type": "code",
      "execution_count": null,
      "metadata": {
        "id": "T2CXdkHle2MK"
      },
      "outputs": [],
      "source": [
        "#now we connect the api strong server of twitter\n",
        "api_connect= tweepy.API(authorization)\n"
      ]
    },
    {
      "cell_type": "code",
      "execution_count": null,
      "metadata": {
        "id": "q2FibKh4fXNV"
      },
      "outputs": [],
      "source": [
        "tweet_data= api_connect.search('Kashmir Files',count=100)"
      ]
    },
    {
      "cell_type": "code",
      "execution_count": null,
      "metadata": {
        "colab": {
          "base_uri": "https://localhost:8080/"
        },
        "id": "x3YomLlrflBU",
        "outputId": "a28d66e9-a087-4d54-8669-59b5e502fd5f"
      },
      "outputs": [
        {
          "output_type": "execute_result",
          "data": {
            "text/plain": [
              "[]"
            ]
          },
          "metadata": {},
          "execution_count": 72
        }
      ],
      "source": [
        "tweet_data"
      ]
    },
    {
      "cell_type": "code",
      "execution_count": null,
      "metadata": {
        "id": "vliZyE1Cfutf"
      },
      "outputs": [],
      "source": [
        "for tweet in tweet_data:\n",
        "  print(tweet.text)"
      ]
    },
    {
      "cell_type": "code",
      "execution_count": null,
      "metadata": {
        "colab": {
          "base_uri": "https://localhost:8080/"
        },
        "id": "_tn7uBzQknq3",
        "outputId": "58bd6df1-246c-4818-e3a2-c7ff586aecba"
      },
      "outputs": [
        {
          "output_type": "stream",
          "name": "stdout",
          "text": [
            "Sentiment(polarity=0.0, subjectivity=0.0)\n",
            "NEUTRAL\n",
            "Sentiment(polarity=-0.4000000000000001, subjectivity=0.9)\n",
            "NEGATIVE\n",
            "Sentiment(polarity=0.4, subjectivity=0.8)\n",
            "POSITIVE\n",
            "Sentiment(polarity=0.0, subjectivity=0.0)\n",
            "NEUTRAL\n",
            "Sentiment(polarity=0.0, subjectivity=0.0)\n",
            "NEUTRAL\n",
            "Sentiment(polarity=0.0, subjectivity=0.0)\n",
            "NEUTRAL\n",
            "Sentiment(polarity=0.0, subjectivity=0.0)\n",
            "NEUTRAL\n",
            "Sentiment(polarity=0.0, subjectivity=0.0)\n",
            "NEUTRAL\n",
            "Sentiment(polarity=-0.9099999999999998, subjectivity=0.8666666666666667)\n",
            "NEGATIVE\n",
            "Sentiment(polarity=0.0, subjectivity=0.0)\n",
            "NEUTRAL\n",
            "Sentiment(polarity=0.0, subjectivity=0.0)\n",
            "NEUTRAL\n",
            "Sentiment(polarity=-0.4, subjectivity=0.95)\n",
            "NEGATIVE\n",
            "Sentiment(polarity=0.0, subjectivity=0.0)\n",
            "NEUTRAL\n",
            "Sentiment(polarity=0.0, subjectivity=0.0)\n",
            "NEUTRAL\n",
            "Sentiment(polarity=0.0, subjectivity=0.0)\n",
            "NEUTRAL\n",
            "Sentiment(polarity=0.0, subjectivity=0.0)\n",
            "NEUTRAL\n",
            "Sentiment(polarity=0.0, subjectivity=0.0)\n",
            "NEUTRAL\n",
            "Sentiment(polarity=0.0, subjectivity=0.0)\n",
            "NEUTRAL\n",
            "Sentiment(polarity=0.10000000000000002, subjectivity=0.16666666666666666)\n",
            "POSITIVE\n",
            "Sentiment(polarity=0.0, subjectivity=0.0)\n",
            "NEUTRAL\n",
            "Sentiment(polarity=-0.4, subjectivity=0.7)\n",
            "NEGATIVE\n",
            "Sentiment(polarity=0.2785714285714286, subjectivity=0.3857142857142857)\n",
            "POSITIVE\n",
            "Sentiment(polarity=0.0, subjectivity=0.0)\n",
            "NEUTRAL\n",
            "Sentiment(polarity=-0.15, subjectivity=0.6)\n",
            "NEGATIVE\n",
            "Sentiment(polarity=0.0, subjectivity=0.0)\n",
            "NEUTRAL\n",
            "Sentiment(polarity=0.0, subjectivity=0.0)\n",
            "NEUTRAL\n",
            "Sentiment(polarity=0.0, subjectivity=0.0)\n",
            "NEUTRAL\n",
            "Sentiment(polarity=0.0, subjectivity=0.0)\n",
            "NEUTRAL\n",
            "Sentiment(polarity=0.0, subjectivity=0.0)\n",
            "NEUTRAL\n",
            "Sentiment(polarity=0.0, subjectivity=0.0)\n",
            "NEUTRAL\n",
            "Sentiment(polarity=0.39999999999999997, subjectivity=0.3666666666666667)\n",
            "POSITIVE\n",
            "Sentiment(polarity=0.0, subjectivity=0.0)\n",
            "NEUTRAL\n",
            "Sentiment(polarity=0.0, subjectivity=0.0)\n",
            "NEUTRAL\n",
            "Sentiment(polarity=0.0, subjectivity=0.0)\n",
            "NEUTRAL\n",
            "Sentiment(polarity=0.05833333333333334, subjectivity=0.4583333333333333)\n",
            "POSITIVE\n",
            "Sentiment(polarity=0.0, subjectivity=0.0)\n",
            "NEUTRAL\n",
            "Sentiment(polarity=0.0, subjectivity=0.0)\n",
            "NEUTRAL\n",
            "Sentiment(polarity=-0.2, subjectivity=0.0)\n",
            "NEGATIVE\n",
            "Sentiment(polarity=0.0, subjectivity=0.0)\n",
            "NEUTRAL\n",
            "Sentiment(polarity=-0.1, subjectivity=0.2625)\n",
            "NEGATIVE\n",
            "Sentiment(polarity=0.0, subjectivity=0.0)\n",
            "NEUTRAL\n",
            "Sentiment(polarity=0.0, subjectivity=0.0)\n",
            "NEUTRAL\n",
            "Sentiment(polarity=0.0, subjectivity=0.0)\n",
            "NEUTRAL\n",
            "Sentiment(polarity=0.0, subjectivity=0.0)\n",
            "NEUTRAL\n",
            "Sentiment(polarity=0.0, subjectivity=0.0)\n",
            "NEUTRAL\n",
            "Sentiment(polarity=0.2, subjectivity=0.65)\n",
            "POSITIVE\n",
            "Sentiment(polarity=0.0, subjectivity=0.0)\n",
            "NEUTRAL\n",
            "Sentiment(polarity=0.0, subjectivity=0.0)\n",
            "NEUTRAL\n",
            "Sentiment(polarity=0.0, subjectivity=0.0)\n",
            "NEUTRAL\n",
            "Sentiment(polarity=-0.16666666666666666, subjectivity=0.16666666666666666)\n",
            "NEGATIVE\n",
            "Sentiment(polarity=0.0, subjectivity=0.0)\n",
            "NEUTRAL\n",
            "Sentiment(polarity=0.0, subjectivity=0.0)\n",
            "NEUTRAL\n",
            "Sentiment(polarity=0.17857142857142858, subjectivity=0.4107142857142857)\n",
            "POSITIVE\n",
            "Sentiment(polarity=0.26666666666666666, subjectivity=0.2833333333333333)\n",
            "POSITIVE\n",
            "Sentiment(polarity=0.4, subjectivity=0.8)\n",
            "POSITIVE\n",
            "Sentiment(polarity=0.0, subjectivity=0.0)\n",
            "NEUTRAL\n",
            "Sentiment(polarity=0.0, subjectivity=0.0)\n",
            "NEUTRAL\n",
            "Sentiment(polarity=0.5, subjectivity=1.0)\n",
            "POSITIVE\n",
            "Sentiment(polarity=0.0, subjectivity=0.0)\n",
            "NEUTRAL\n",
            "Sentiment(polarity=0.0, subjectivity=0.0)\n",
            "NEUTRAL\n",
            "Sentiment(polarity=0.0, subjectivity=0.0)\n",
            "NEUTRAL\n",
            "Sentiment(polarity=0.0, subjectivity=0.0)\n",
            "NEUTRAL\n",
            "Sentiment(polarity=0.0, subjectivity=0.25)\n",
            "NEUTRAL\n",
            "Sentiment(polarity=0.0, subjectivity=0.0)\n",
            "NEUTRAL\n",
            "Sentiment(polarity=0.5, subjectivity=0.5)\n",
            "POSITIVE\n",
            "Sentiment(polarity=0.0, subjectivity=0.0)\n",
            "NEUTRAL\n",
            "Sentiment(polarity=-0.05, subjectivity=0.1)\n",
            "NEGATIVE\n",
            "Sentiment(polarity=-0.25, subjectivity=0.05)\n",
            "NEGATIVE\n",
            "Sentiment(polarity=0.0, subjectivity=0.0)\n",
            "NEUTRAL\n",
            "Sentiment(polarity=0.0, subjectivity=0.0)\n",
            "NEUTRAL\n",
            "Sentiment(polarity=0.0, subjectivity=0.0)\n",
            "NEUTRAL\n",
            "Sentiment(polarity=0.03333333333333333, subjectivity=0.06666666666666667)\n",
            "POSITIVE\n",
            "Sentiment(polarity=0.0, subjectivity=0.0)\n",
            "NEUTRAL\n",
            "Sentiment(polarity=0.0, subjectivity=0.0)\n",
            "NEUTRAL\n",
            "Sentiment(polarity=0.0, subjectivity=0.0)\n",
            "NEUTRAL\n",
            "Sentiment(polarity=0.0, subjectivity=0.0)\n",
            "NEUTRAL\n",
            "Sentiment(polarity=-0.1, subjectivity=0.1)\n",
            "NEGATIVE\n",
            "Sentiment(polarity=0.5, subjectivity=0.5)\n",
            "POSITIVE\n",
            "Sentiment(polarity=0.0, subjectivity=0.0)\n",
            "NEUTRAL\n",
            "Sentiment(polarity=-0.15, subjectivity=0.6)\n",
            "NEGATIVE\n",
            "Sentiment(polarity=0.2857142857142857, subjectivity=0.5357142857142857)\n",
            "POSITIVE\n",
            "Sentiment(polarity=-0.05, subjectivity=0.25)\n",
            "NEGATIVE\n",
            "Sentiment(polarity=0.0, subjectivity=0.0)\n",
            "NEUTRAL\n",
            "Sentiment(polarity=0.25, subjectivity=0.25)\n",
            "POSITIVE\n",
            "Sentiment(polarity=0.0, subjectivity=0.0)\n",
            "NEUTRAL\n",
            "Sentiment(polarity=0.0, subjectivity=0.0)\n",
            "NEUTRAL\n",
            "Sentiment(polarity=0.0, subjectivity=0.0)\n",
            "NEUTRAL\n",
            "Sentiment(polarity=0.0, subjectivity=0.0)\n",
            "NEUTRAL\n",
            "Sentiment(polarity=0.0, subjectivity=0.0)\n",
            "NEUTRAL\n",
            "Sentiment(polarity=0.0, subjectivity=0.0)\n",
            "NEUTRAL\n",
            "Sentiment(polarity=0.0, subjectivity=0.0)\n",
            "NEUTRAL\n",
            "Sentiment(polarity=0.2, subjectivity=0.30000000000000004)\n",
            "POSITIVE\n",
            "Sentiment(polarity=0.0, subjectivity=0.0)\n",
            "NEUTRAL\n",
            "Sentiment(polarity=0.0, subjectivity=0.0)\n",
            "NEUTRAL\n",
            "Sentiment(polarity=0.0, subjectivity=0.0)\n",
            "NEUTRAL\n",
            "Sentiment(polarity=0.0, subjectivity=0.0)\n",
            "NEUTRAL\n",
            "Sentiment(polarity=0.0, subjectivity=0.0)\n",
            "NEUTRAL\n",
            "Sentiment(polarity=0.0, subjectivity=0.0)\n",
            "NEUTRAL\n",
            "Sentiment(polarity=0.0, subjectivity=0.0)\n",
            "NEUTRAL\n",
            "Sentiment(polarity=0.0, subjectivity=0.0)\n",
            "NEUTRAL\n"
          ]
        }
      ],
      "source": [
        "pos=0\n",
        "neg=0\n",
        "neu=0\n",
        "\n",
        "for tweet in tweet_data:\n",
        "  analysis=TextBlob(tweet.text)\n",
        "  print(analysis.sentiment)\n",
        "  if analysis.sentiment.polarity>0:\n",
        "    print(\"POSITIVE\")\n",
        "    pos+=1\n",
        "  elif analysis.sentiment.polarity==0:\n",
        "    print(\"NEUTRAL\")\n",
        "    neu+=1\n",
        "  else:\n",
        "    print(\"NEGATIVE\")\n",
        "    neg+=1\n"
      ]
    },
    {
      "cell_type": "code",
      "execution_count": null,
      "metadata": {
        "colab": {
          "base_uri": "https://localhost:8080/",
          "height": 262
        },
        "id": "0NOWEX3imBNg",
        "outputId": "d1139980-252c-44f0-9cc9-7de5e840a303"
      },
      "outputs": [
        {
          "output_type": "display_data",
          "data": {
            "text/plain": [
              "<Figure size 432x288 with 1 Axes>"
            ],
            "image/png": "[encoded data removed]"
          },
          "metadata": {}
        }
      ],
      "source": [
        "#plot the Graph\n",
        "\n",
        "plt.xlabel('Kashmir Files')\n",
        "plt.ylabel('polarity')\n",
        "plt.pie([pos,neg],labels=['Positive ','Negative'],autopct=\"%1.1f%%\")\n",
        "plt.show()"
      ]
    },
    {
      "cell_type": "code",
      "execution_count": null,
      "metadata": {
        "colab": {
          "background_save": true
        },
        "id": "Oah71tn6nvcD"
      },
      "outputs": [],
      "source": [
        "plt.bar( pos, color ='r', width = \"0.25\",edgecolor ='grey', label ='IT')"
      ]
    },
    {
      "cell_type": "code",
      "source": [
        "print(pos,neg)"
      ],
      "metadata": {
        "colab": {
          "base_uri": "https://localhost:8080/"
        },
        "id": "Z39VzxEMwWI3",
        "outputId": "10f2464a-aac2-4000-dac3-e2022132c536"
      },
      "execution_count": null,
      "outputs": [
        {
          "output_type": "stream",
          "name": "stdout",
          "text": [
            "16 13\n"
          ]
        }
      ]
    }
  ],
  "metadata": {
    "colab": {
      "name": "Real_time _twitter_Sentimental_analysis_textblob_tweepy.ipynb",
      "provenance": [],
      "collapsed_sections": [],
      "authorship_tag": "ABX9TyNByNURzwqB32rGseHPIBNF",
      "include_colab_link": true
    },
    "kernelspec": {
      "display_name": "Python 3",
      "name": "python3"
    },
    "language_info": {
      "name": "python"
    }
  },
  "nbformat": 4,
  "nbformat_minor": 0
}